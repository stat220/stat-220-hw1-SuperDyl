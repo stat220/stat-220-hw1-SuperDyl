{
 "cells": [
  {
   "cell_type": "markdown",
   "metadata": {},
   "source": [
    "[![Open in Colab](https://colab.research.google.com/assets/colab-badge.svg)](https://colab.research.google.com/github/drbob-richardson/stat220/blob/main/Assignments/Stat_220_HW1.ipynb)\n"
   ]
  },
  {
   "cell_type": "markdown",
   "metadata": {
    "id": "rAHSgD3t8Oct"
   },
   "source": [
    "**Problem 1**. Give an example of a variable that is (a) categorical; (b) quantitative; (c) discrete; (d) continuous.\n",
    "\n"
   ]
  },
  {
   "cell_type": "markdown",
   "metadata": {
    "id": "dsfbC4NlASWt"
   },
   "source": [
    "a. sex\n",
    "b. age\n",
    "c. books_read\n",
    "d. time_spent_reading"
   ]
  },
  {
   "cell_type": "markdown",
   "metadata": {
    "id": "724wPOyj8SMA"
   },
   "source": [
    "**Problem 2**. Analyze the Carbon_West data file using the following code."
   ]
  },
  {
   "cell_type": "code",
   "execution_count": null,
   "metadata": {},
   "outputs": [],
   "source": [
    "import pandas as pd\n",
    "from matplotlib import pyplot as plt\n",
    "from sklearn.linear_model import LinearRegression"
   ]
  },
  {
   "cell_type": "code",
   "outputs": [],
   "source": [
    "carbon_west = pd.read_fwf(\"https://stat4ds.rwth-aachen.de/data/Carbon_West.dat\")\n",
    "carbon_west"
   ],
   "metadata": {
    "collapsed": false
   },
   "execution_count": null
  },
  {
   "cell_type": "markdown",
   "metadata": {
    "id": "8eVNIOzIBLvz"
   },
   "source": [
    "Part a. Construct a histogram of CO2 emissions. "
   ]
  },
  {
   "cell_type": "code",
   "execution_count": null,
   "metadata": {
    "id": "hpYwEy9D6uCb"
   },
   "outputs": [],
   "source": [
    "carbon_west.hist()\n",
    "plt.title(\"CO2 Emissions in Western Countries\")\n",
    "plt.xlabel(\"CO2 Emissions\")\n",
    "plt.ylabel(\"Countries\")\n",
    "plt.show()"
   ]
  },
  {
   "cell_type": "markdown",
   "metadata": {
    "id": "okwY6u3RA2HW"
   },
   "source": [
    "Part b. Find the mean, median, and standard deviation. "
   ]
  },
  {
   "cell_type": "code",
   "execution_count": null,
   "metadata": {
    "id": "zRgquQXDBU7d"
   },
   "outputs": [],
   "source": [
    "carbon_west.agg({'CO2': ['mean', 'median', 'std']})"
   ]
  },
  {
   "cell_type": "markdown",
   "metadata": {
    "id": "51Jc1C0G8pyj"
   },
   "source": [
    "**Problem 3**. Read in the murder data set using the following code. The variable murder is the murder rate (per 100,000 population) for each state in the U.S. in 2017 according to the FBI Uniform Crime Reports. At first, do not use the observation for D.C. (DC). "
   ]
  },
  {
   "cell_type": "code",
   "execution_count": null,
   "metadata": {},
   "outputs": [],
   "source": [
    "murders = pd.read_fwf(\"https://stat4ds.rwth-aachen.de/data/Murder.dat\")\n",
    "state_murders = murders[murders['state'] != 'DC']\n",
    "state_murders"
   ]
  },
  {
   "cell_type": "markdown",
   "metadata": {
    "id": "GZZLzlxUBHNq"
   },
   "source": [
    "Part a. Find the mean and standard deviation for murders without D.C."
   ]
  },
  {
   "cell_type": "code",
   "execution_count": null,
   "metadata": {
    "id": "aWW3ZbwCBfNI"
   },
   "outputs": [],
   "source": [
    "state_murders.agg({'murder':['mean', 'std']})"
   ]
  },
  {
   "cell_type": "markdown",
   "metadata": {
    "id": "i2g3hF1gBfmV"
   },
   "source": [
    "Part b. Find the five-number  summary without D.C. "
   ]
  },
  {
   "cell_type": "code",
   "outputs": [],
   "source": [
    "q1 = lambda x: x.quantile(.25)\n",
    "q3 = lambda x: x.quantile(.75)\n",
    "\n",
    "q1.__name__ = \"25%\"\n",
    "q3.__name__ = \"75%\"\n",
    "\n",
    "state_murders.agg({'murder':['min', q1, 'median', q3, 'max']})"
   ],
   "metadata": {
    "collapsed": false
   },
   "execution_count": null
  },
  {
   "cell_type": "markdown",
   "metadata": {
    "id": "StEDIf2eBlEo"
   },
   "source": [
    "Part c. Now include the observation for D.C. and recalculate the mean, median, and five-number summary. What is affected more by this outlier: The mean or the median? The range or the inter-quartile range?"
   ]
  },
  {
   "cell_type": "code",
   "execution_count": null,
   "metadata": {
    "id": "0E-QkG4K85Ti"
   },
   "outputs": [],
   "source": [
    "# median is calculated twice to make it easier to grade\n",
    "murders.agg({'murder':['mean', 'median', 'min', q1, 'median', q3, 'max']})"
   ]
  },
  {
   "cell_type": "markdown",
   "source": [
    "Differences:\n",
    "* Mean:     `4.87 - 5.25 = -0.38`\n",
    "* Median:   `4.87 - 5.00 = -0.13`\n",
    "* Range:    `(12.400 - 1.000) - (24.200 - 1.000) = 11.400 - 23.200 = -11.800`\n",
    "* IQ-Range: `( 6.175 - 2.625) - ( 6.450 - 2.650) =  3.550 -  3.800 =  -0.250`\n",
    "\n",
    "The outlier affected the *mean* and *range* the most"
   ],
   "metadata": {
    "collapsed": false
   }
  },
  {
   "cell_type": "markdown",
   "metadata": {
    "id": "XSUrzIUN9Usb"
   },
   "source": [
    "**Problem 4**. Read in the Houses data file using the following code.  The variables include price (thousands of dollars), size (square feet), tax bill (dollars), number of bathrooms, number of bedrooms, and whether the house is new (1 = yes, 0 = no) for 100 home sales in Gainesville, Florida. Let\n",
    "y = selling price and x = size of home."
   ]
  },
  {
   "cell_type": "code",
   "execution_count": null,
   "metadata": {},
   "outputs": [],
   "source": [
    "houses = pd.read_fwf(\"https://stat4ds.rwth-aachen.de/data/Houses.dat\")\n",
    "houses"
   ]
  },
  {
   "cell_type": "markdown",
   "metadata": {
    "id": "ANDMQnnNCDJ_"
   },
   "source": [
    "Part a. Construct a scatterplot between square feet and price of a home. "
   ]
  },
  {
   "cell_type": "code",
   "execution_count": null,
   "metadata": {
    "id": "NR78IlfS9UQL"
   },
   "outputs": [],
   "source": [
    "houses.plot(x='size', y='price', kind='scatter', label=\"Scatterplot\")\n",
    "plt.title(\"House Prices by Size of Home\")\n",
    "plt.xlabel(\"Size of home (sq ft)\")\n",
    "plt.ylabel(\"Price of home (thousands of dollars)\")\n",
    "plt.grid(True)\n",
    "plt.show()"
   ]
  },
  {
   "cell_type": "markdown",
   "metadata": {
    "id": "r3-QiSsACInq"
   },
   "source": [
    "Part b. Find the correlation between the two variables."
   ]
  },
  {
   "cell_type": "code",
   "execution_count": null,
   "metadata": {
    "id": "1Z9oP-T6CMdx"
   },
   "outputs": [],
   "source": [
    "houses['size'].corr(houses['price'])"
   ]
  },
  {
   "cell_type": "markdown",
   "metadata": {
    "id": "nCTcEbFSCM6J"
   },
   "source": [
    "Part c. Find and plot the regression line on top of the scatterplot. "
   ]
  },
  {
   "cell_type": "code",
   "execution_count": null,
   "metadata": {},
   "outputs": [],
   "source": [
    "model = LinearRegression()\n",
    "model.fit(houses[['size']], houses['price'])\n",
    "slope = model.coef_[0]\n",
    "intercept = model.intercept_\n",
    "\n",
    "print(f'slope={slope:.4f}, intercept={intercept:.4f}')"
   ]
  },
  {
   "cell_type": "code",
   "outputs": [],
   "source": [
    "houses.plot(x='size', y='price', kind='scatter', label=\"Scatterplot\")\n",
    "plt.title(\"House Prices by Size of Home\")\n",
    "plt.xlabel(\"Size of home (sq ft)\")\n",
    "plt.ylabel(\"Price of home (thousands of dollars)\")\n",
    "\n",
    "plt.plot(houses['size'], model.predict(houses[['size']]), color='red', label=\"Regression Line\")\n",
    "plt.legend()\n",
    "plt.grid(True)\n",
    "plt.show()"
   ],
   "metadata": {
    "collapsed": false
   },
   "execution_count": null
  },
  {
   "cell_type": "markdown",
   "metadata": {},
   "source": [
    "Part d. Create a side by side boxplot of price comparing homes that are new and homes that are not new. "
   ]
  },
  {
   "cell_type": "code",
   "execution_count": null,
   "metadata": {},
   "outputs": [],
   "source": [
    "fig, (ax1, ax2) = plt.subplots(2, 1, sharex='col')\n",
    "plt.suptitle('House Prices by Age of Home')\n",
    "ax1.boxplot(houses[houses['new'] == 1]['price'], vert=False)\n",
    "ax1.set_yticks([])\n",
    "ax1.set_title('New Houses')\n",
    "ax2.boxplot(houses[houses['new'] == 0]['price'], vert=False)\n",
    "ax2.set_yticks([])\n",
    "ax2.set_title('Old houses')\n",
    "plt.show()"
   ]
  },
  {
   "cell_type": "markdown",
   "metadata": {},
   "source": [
    "Part e. What is the relationship between size and price.  Justify your answer using the plots created. Do the same for the relationship between price and whether or not a house is new, again using the plot to justify your answer."
   ]
  },
  {
   "cell_type": "markdown",
   "source": [
    "As the size of the house increases, so does the price.\n",
    "There is strong a positive correlation between these values (0.8337847885586537).\n",
    "The scatterplot shows that a linear fit has a good fit for the data with a positive slope.\n",
    "\n",
    "A similar relationship seems to exist between the age category of a house and the price.\n",
    "Since the data is categorical instead of continuous,\n",
    "we didn't calculate the correlation, draw a scatterplot, or find the line of best fit.\n",
    "Comparing the box plots does show that the full 5-number-summary of price (ignoring outliers)\n",
    "has new houses having significantly higher prices than older houses.\n",
    "Outliers show that it is possible for an old house to have a higher cost,\n",
    "so other variables can have a significant effect over the price."
   ],
   "metadata": {
    "collapsed": false
   }
  },
  {
   "cell_type": "markdown",
   "metadata": {
    "id": "QsOTfwzI9alX"
   },
   "source": [
    "**Problem 1.22**. Using the Happy data file read in by the following code. Construct the contingency table relating marital status and happiness. "
   ]
  },
  {
   "cell_type": "code",
   "execution_count": null,
   "metadata": {},
   "outputs": [],
   "source": [
    "happy = pd.read_csv(\"https://stat4ds.rwth-aachen.de/data/Happy.dat\", delim_whitespace=True)\n",
    "happy"
   ]
  },
  {
   "cell_type": "code",
   "outputs": [],
   "source": [
    "pd.crosstab(happy['marital'], happy['happiness'])"
   ],
   "metadata": {
    "collapsed": false
   },
   "execution_count": null
  },
  {
   "cell_type": "code",
   "outputs": [],
   "source": [],
   "metadata": {
    "collapsed": false
   },
   "execution_count": null
  }
 ],
 "metadata": {
  "colab": {
   "authorship_tag": "ABX9TyOhHxve7vvG01k2sU+qC838",
   "provenance": []
  },
  "kernelspec": {
   "name": "python3",
   "language": "python",
   "display_name": "Python 3 (ipykernel)"
  },
  "language_info": {
   "codemirror_mode": {
    "name": "ipython",
    "version": 3
   },
   "file_extension": ".py",
   "mimetype": "text/x-python",
   "name": "python",
   "nbconvert_exporter": "python",
   "pygments_lexer": "ipython3",
   "version": "3.9.6"
  }
 },
 "nbformat": 4,
 "nbformat_minor": 0
}
